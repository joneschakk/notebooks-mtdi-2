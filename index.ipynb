{
 "cells": [
  {
   "cell_type": "markdown",
   "id": "e54cd8a9-e486-47e7-be32-9167699b8f98",
   "metadata": {},
   "source": [
    "# Measurement Techniques and Distributed Intelligence for Power Systems\n",
    "---\n",
    "Below you will find the simulation examples presented in this course by Prof. Ferdinanda Ponci, Ph.D. at the RWTH Aachen University. \n",
    "Currently available notebooks are listed here. Click on the link to access the respective excercises.\n",
    "- [Practice I - Uncertainty calculation and propagation](<Practice_Sessions/Practice I - Uncertainty calculation and propagation/Practice I - Uncertainty calculation and propagation.ipynb>)\n",
    "- [Practice II - Power measurements](<Practice_Sessions/Practice II - Power Measurements/Practice II - Power calculation_1.ipynb>)\n",
    "- [Practice III - Introduction to PMUs and Synchrophasors](<Practice_Sessions/Practice III - Introduction to PMUs and Synchrophasors/Synchrophasor Measurements.ipynb>)\n",
    "- [Practice IV - PMUs and Sychrophasors](<Practice_Sessions/Practice IV - PMUs and Sychrophasors/phasor_calculation.ipynb>)\n",
    "- [Practice V - State Estimation](<Practice_Sessions/Practice V - State Estimation/Practice V - Basic State Estimation example.ipynb>)\n",
    "\n"
   ]
  },
  {
   "cell_type": "code",
   "execution_count": null,
   "id": "9a993540-d126-49c0-916b-0af233d12cb6",
   "metadata": {},
   "outputs": [],
   "source": []
  }
 ],
 "metadata": {
  "kernelspec": {
   "display_name": "Python 3 (ipykernel)",
   "language": "python",
   "name": "python3"
  },
  "language_info": {
   "codemirror_mode": {
    "name": "ipython",
    "version": 3
   },
   "file_extension": ".py",
   "mimetype": "text/x-python",
   "name": "python",
   "nbconvert_exporter": "python",
   "pygments_lexer": "ipython3",
   "version": "3.9.7"
  }
 },
 "nbformat": 4,
 "nbformat_minor": 5
}
