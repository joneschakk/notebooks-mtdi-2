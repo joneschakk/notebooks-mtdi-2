{
 "cells": [
  {
   "cell_type": "markdown",
   "id": "b99145b5-d3ab-4df3-b46e-d5327847ed1d",
   "metadata": {},
   "source": [
    "# Uncertainty calculation and propagation\n",
    "---\n",
    "Let's us imagine that we measure power using a voltimeter in parallel and series amperimeter, and that most of the influences related to their inclusion in the circuit are taken in account.\n"
   ]
  },
  {
   "cell_type": "markdown",
   "id": "ef403d39-cf70-4ea1-a626-311fc57b60a8",
   "metadata": {},
   "source": [
    "## Voltimeter behaviour\n",
    "\n",
    "We have the following voltage measurements, using a voltimeter. The measurements were taken 10 times and are already digitalized.\n",
    "\n",
    "| Meas              \t| 1      \t| 2      \t| 3      \t| 4      \t| 5      \t| 6      \t| 7      \t| 8      \t| 9      \t| 10     \t|\n",
    "|-------------------\t|--------\t|--------\t|--------\t|--------\t|--------\t|--------\t|--------\t|--------\t|--------\t|--------\t|\n",
    "| Voltage Magnitude \t| 5.10 V \t| 5.20 V \t| 5.14 V \t| 5.15 V \t| 5.22 V \t| 5.08 V \t| 5.18 V \t| 5.15 V \t| 5.12 V \t| 5.16 V \t|\n"
   ]
  },
  {
   "cell_type": "markdown",
   "id": "e0b9cece-5539-442a-9354-b92f0ec1ed58",
   "metadata": {},
   "source": [
    "### What type of uncertainty we have?\n",
    "\n",
    "The type characterization is A, why?"
   ]
  },
  {
   "cell_type": "markdown",
   "id": "3a602689-51b1-40a6-b6d9-e1cdfc35ed79",
   "metadata": {},
   "source": [
    "### Calculate the measurement using the data from the table\n",
    "\n",
    "The value is the mean value, then $$ \\overline{V}=\\frac{1}{N}\\sum_{k=1}^{N}x_k $$"
   ]
  },
  {
   "cell_type": "code",
   "execution_count": 28,
   "id": "af1840fe-76da-4849-8e9a-2deb64405a14",
   "metadata": {},
   "outputs": [
    {
     "name": "stdout",
     "output_type": "stream",
     "text": [
      "The estimated voltage is  5.15  V\n"
     ]
    }
   ],
   "source": [
    "import numpy as np\n",
    "measurements= np.array([5.10, 5.20, 5.14, 5.15, 5.22, 5.08, 5.18, 5.15, 5.12, 5.16])\n",
    "\n",
    "N=len(measurements)\n",
    "sum_elem=np.sum(measurements)\n",
    "voltage_est = sum_elem/N\n",
    "\n",
    "print(\"The estimated voltage is \", voltage_est , \" V\")"
   ]
  },
  {
   "cell_type": "markdown",
   "id": "75cf25ea-da5e-4bd2-ba8d-096dd10f56cf",
   "metadata": {},
   "source": [
    "### Uncertainty calculation\n",
    "\n",
    "We assume that the variance of the measurement samples is correlated to the variance of the mean, and consequently the uncertainty can be determined. This is on the hypotesis that we have a normal distribution.\n",
    "\n",
    "$$ S^2(V)=\\frac{1}{N-1}\\sum_{k=1}^{N}(x_k-\\overline{V}^2) $$\n",
    "\n",
    "$$ S^2(\\overline{V})=\\frac{S^2(V)}{N} $$\n",
    "\n",
    "$$ \\mu_V = S(\\overline{V})= \\sqrt{S^2(\\overline{V})} $$"
   ]
  },
  {
   "cell_type": "code",
   "execution_count": 29,
   "id": "683f3afd-2d6e-40fb-87eb-bb16a9559403",
   "metadata": {},
   "outputs": [
    {
     "name": "stdout",
     "output_type": "stream",
     "text": [
      "The estimated uncertainty is  0.01366260102127946  V\n"
     ]
    }
   ],
   "source": [
    "import math\n",
    "differences=measurements-voltage_est\n",
    "sum_squares=np.sum( np.power(differences,2) )\n",
    "var_mean =sum_squares/(N-1)\n",
    "uncert_v= math.sqrt(var_mean/N)\n",
    "print(\"The estimated uncertainty is \", uncert_v, \" V\" )"
   ]
  },
  {
   "cell_type": "code",
   "execution_count": null,
   "id": "06f005ac-8f2d-4bb1-b502-206498345a07",
   "metadata": {},
   "outputs": [],
   "source": []
  }
 ],
 "metadata": {
  "kernelspec": {
   "display_name": "Python 3 (ipykernel)",
   "language": "python",
   "name": "python3"
  },
  "language_info": {
   "codemirror_mode": {
    "name": "ipython",
    "version": 3
   },
   "file_extension": ".py",
   "mimetype": "text/x-python",
   "name": "python",
   "nbconvert_exporter": "python",
   "pygments_lexer": "ipython3",
   "version": "3.9.7"
  }
 },
 "nbformat": 4,
 "nbformat_minor": 5
}
