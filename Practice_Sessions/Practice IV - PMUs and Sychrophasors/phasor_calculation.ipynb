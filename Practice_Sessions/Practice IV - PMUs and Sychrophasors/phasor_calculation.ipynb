{
 "cells": [
  {
   "cell_type": "markdown",
   "metadata": {},
   "source": [
    "# PMUs and Synchrophasors\n",
    "\n",
    "---\n",
    "## Non-Recursive Phasor estimation\n",
    "This function implements the Non-Recursive method for phasor calculations.\n",
    "![pic_non_recursive.png](pic_non_recursive.png)"
   ]
  },
  {
   "cell_type": "code",
   "execution_count": 1,
   "metadata": {},
   "outputs": [],
   "source": [
    "import numpy as np\n",
    "ctr = 0 # index for 3 point averaging\n",
    "# non-recursive method\n",
    "# Parameters\n",
    "Nw = 6\n",
    "f0 = 60\n",
    "N = 20\n",
    "amp = 30\n",
    "phase = np.pi / 4\n",
    "# X_nrec = np.zeros(Nw, dtype=complex)\n",
    "# Xb = np.zeros((1, Nw), dtype=complex)\n",
    "\n",
    "def non_recursive_est(Nw,N,f0,amp,phase):\n",
    "    T0 = 1 / f0\n",
    "    fs = f0 * N\n",
    "    Nt = N * Nw\n",
    "    dt = 1 / fs\n",
    "    t = dt * np.arange(Nt)\n",
    "    \n",
    "    # Generate the signal x\n",
    "    x = amp * np.cos(2 * np.pi * f0 * t + phase)\n",
    "    \n",
    "    # Initialize phasors\n",
    "    X1 = np.zeros(Nw, dtype=complex)\n",
    "    th = 2 * np.pi / N\n",
    "    \n",
    "    for k in range(Nw):\n",
    "        phasor_sum = 0\n",
    "        for n in range(N):\n",
    "            phasor_sum += (np.sqrt(2) / N) * (x[k + n] * np.exp(-1j * n * th))  # Phasor calculation\n",
    "    \n",
    "        X1[k] = phasor_sum\n",
    "    return X1\n",
    "\n",
    "X_nrec = non_recursive_est(Nw,N,f0,amp,phase)"
   ]
  },
  {
   "cell_type": "markdown",
   "metadata": {},
   "source": [
    "## Recursive Phasor estimation\n",
    "This function implements the Recursive method for phasor calculations.\n",
    "![pic_recursive.png](pic_recursive.png)\n",
    "![pic_off_nominal_1.png](pic_off_nominal_1.png)\n",
    "![pic_off_nominal_2.png](pic_off_nominal_2.png)"
   ]
  },
  {
   "cell_type": "code",
   "execution_count": 2,
   "metadata": {},
   "outputs": [],
   "source": [
    "#recursive\n",
    "fn = 50     # Nominal frequency\n",
    "def recursive_est(Nw,N,f0,fn,amp,phase):\n",
    "    Nt = N * Nw\n",
    "    fs = fn * N   # Sampling freq\n",
    "    dt = 1 / fs\n",
    "    t = dt * np.arange(Nt)\n",
    "    \n",
    "    fs1 = N * f0\n",
    "    dt1 = 1/fs1\n",
    "    t1 = dt1 * np.arange(Nt)\n",
    "    \n",
    "    # Generate the signal x\n",
    "    x = amp * np.cos(2 * np.pi * f0 * t + phase)\n",
    "    x1 = amp * np.cos(2 * np.pi * f0 * t1 + phase)\n",
    "    \n",
    "    X = np.zeros(Nw, dtype=complex)\n",
    "    Xa_1 = np.zeros(Nw, dtype=complex)\n",
    "    Xa_2 = np.zeros(Nw, dtype=complex)\n",
    "    Xb = np.zeros((1, Nw), dtype=complex)\n",
    "    \n",
    "    th = 2 * np.pi / N\n",
    "    \n",
    "    df = f0 - fn\n",
    "    w0 = 2 * np.pi * fn\n",
    "    dw = 2 * np.pi * df\n",
    "    w = w0 + dw\n",
    "    \n",
    "    # Calculate P and Q\n",
    "    if dw == 0:\n",
    "        P = 1\n",
    "        Q = 0\n",
    "    else:\n",
    "        P = (np.sin(N * (w - w0) * dt / 2)) / (N * np.sin((w - w0) * dt / 2)) * np.exp(1j * (N - 1) * (w - w0) * dt / 2)\n",
    "        Q = (np.sin(N * (w + w0) * dt / 2)) / (N * np.sin((w + w0) * dt / 2)) * np.exp(-1j * (N - 1) * (w + w0) * dt / 2)\n",
    "    \n",
    "    for n in range(N):\n",
    "        X[0] = X[0] + (np.sqrt(2) / N) * x1[n] * np.exp(-1j * n * th)\n",
    "        \n",
    "    for k in range(1, Nw):\n",
    "        X[k] = X[k - 1] + (np.sqrt(2) / N) * (x1[N + k - 1] - x1[k - 1]) * np.exp(-1j * k * th)\n",
    "    \n",
    "    for k in range(Nw):\n",
    "        Xb[0, k] = P * X[k] * np.exp(1j * k * (w - w0) * dt) + Q * X[k].conjugate() \\\n",
    "        * np.exp(-1j * k * (w + w0) * dt)\n",
    "    \n",
    "    Xa_1[0] = 0\n",
    "    Xa_2[0] = 0\n",
    "    \n",
    "    for n in range(N):\n",
    "        Xa_1[0] = Xa_1[0] + (np.sqrt(2) / N) * x[n] * np.exp(-1j * n * th)\n",
    "    \n",
    "    for k in range(1, Nw):\n",
    "        Xa_1[k] = Xa_1[k - 1] + (np.sqrt(2) / N) * (x[N + k - 1] - x[k - 1]) * np.exp(-1j * k * th)\n",
    "    \n",
    "    for n in range(N):\n",
    "        Xa_2[0] = Xa_2[0] + (np.sqrt(2) / N) * x1[n] * np.exp(-1j * n * th)\n",
    "    \n",
    "    for k in range(1, Nw):\n",
    "        Xa_2[k] = Xa_2[k - 1] + (np.sqrt(2) / N) * (x1[N + k - 1] - x1[k - 1]) * np.exp(-1j * k * th)\n",
    "    \n",
    "    # Calculate magnitudes and phases\n",
    "    maga_1 = np.abs(Xa_1[-1])\n",
    "    maga_2 = np.abs(Xa_2[-1])\n",
    "    phasea_1 = np.rad2deg(np.angle(Xa_1[-1]))\n",
    "    phasea_2 = np.rad2deg(np.angle(Xa_2[-1]))\n",
    "    magb = np.abs(Xb[0, -1])\n",
    "    phaseb = np.rad2deg(np.angle(Xb[0, -1]))\n",
    "\n",
    "    return Xb\n",
    "    \n",
    "X_rec = recursive_est(Nw,N,f0,fn,amp,phase)"
   ]
  },
  {
   "cell_type": "markdown",
   "metadata": {},
   "source": [
    "This function generates the Phase, Magnitude plots for the phasors calculated with Recursive method"
   ]
  },
  {
   "cell_type": "code",
   "execution_count": 3,
   "metadata": {},
   "outputs": [],
   "source": [
    "def plot_mag_phase(mag_rec, phase_rec, Nw):\n",
    "    x = np.arange(0, Nw)\n",
    "    fig, (ax1,ax2) = plt.subplots(2,1,layout='constrained', sharex=True)\n",
    "    ax1.plot(x, mag_rec,'or')\n",
    "    ax1.set_ylabel('Magnitude')\n",
    "    ax2.plot(x,phase_rec/np.pi*180,'+b')\n",
    "    ax2.set_ylabel('Phase')\n",
    "    ax2.set_xlabel('Samples')\n",
    "    ax2.set_yticks([-180, -90, 0, 90, 180])\n",
    "    fig.suptitle('Magnitude, Phase of Phasor with Recursive method')\n",
    "    plt.show()"
   ]
  },
  {
   "cell_type": "markdown",
   "metadata": {},
   "source": [
    "This function generates the phasor polar plots\n",
    "![pic_three_point_avg.png](pic_three_point_avg.png)"
   ]
  },
  {
   "cell_type": "code",
   "execution_count": 4,
   "metadata": {},
   "outputs": [
    {
     "name": "stdout",
     "output_type": "stream",
     "text": [
      "Non-Recursive  -15.0000+15.0000j  Magnitude: 21.2132 , Phase: 2.3562\n",
      "Recursive  -2.8325+21.4994j  Magnitude: 21.6851 , Phase: 1.7018\n"
     ]
    },
    {
     "data": {
      "image/png": "[encoded data removed]",
      "text/plain": [
       "<Figure size 432x288 with 2 Axes>"
      ]
     },
     "metadata": {
      "needs_background": "light"
     },
     "output_type": "display_data"
    },
    {
     "data": {
      "image/png": "[encoded data removed]",
      "text/plain": [
       "<Figure size 432x288 with 2 Axes>"
      ]
     },
     "metadata": {
      "needs_background": "light"
     },
     "output_type": "display_data"
    }
   ],
   "source": [
    "import matplotlib.pyplot as plt\n",
    "\n",
    "def plot_phasors(Nw,N,X_nrec,X_rec,three_pavg = 0):\n",
    "    global ctr\n",
    "    fig, (ax1, ax2) = plt.subplots(1, 2,subplot_kw=dict(projection=\"polar\"))\n",
    "    ax1.set_title(\"Non-recursive\")\n",
    "    ax2.set_title(\"Recursive\")\n",
    "    fig.tight_layout(pad=2)\n",
    "    colors = [\"black\", \"red\", \"green\", \"brown\"]\n",
    "    phase_rec = np.zeros(Nw)\n",
    "    mag_rec = np.zeros(Nw)\n",
    "    # for 3-point averaging in recursive method\n",
    "    flag = 0\n",
    "    if Nw > N:\n",
    "        ctr = ctr + 1\n",
    "    if three_pavg == 1 and Nw > N:\n",
    "        flag = 1\n",
    "        k60=round(N/6)\n",
    "        k120=round(N/3)\n",
    "        Xs=np.zeros(3,dtype=complex)\n",
    "        Xs[0] = X_rec[0,ctr]\n",
    "        Xs[1] = X_rec[0,ctr+k60]\n",
    "        Xs[2] = X_rec[0,ctr+k120]\n",
    "        X_filtered = sum(Xs)/3\n",
    "        X_rec[0,-1] = sum(Xs)/3\n",
    "\n",
    "    for i in range(Nw):    #iterating over Nw elements\n",
    "        #non-recursive\n",
    "        mag_nrec = np.abs(X_nrec[i])\n",
    "        phase_nrec = np.angle(X_nrec[i])\n",
    "        #reursive\n",
    "        mag_rec[i] = np.abs(X_rec[0,i])\n",
    "        phase_rec[i] = np.angle(X_rec[0,i])\n",
    "        if i == Nw-1:     # print the last calculated phasor information\n",
    "            print(\"Non-Recursive \", \"{:.4f}\".format(X_nrec[i]), \" Magnitude:\", \"{:.4f}\".format(mag_nrec), \", Phase:\",\"{:.4f}\".format(phase_nrec))\n",
    "            print(\"Recursive \", \"{:.4f}\".format(X_rec[0,i]), \" Magnitude:\", \"{:.4f}\".format(mag_rec[i]), \", Phase:\", \"{:.4f}\".format(phase_rec[i]))\n",
    "        # legend and colour generation. After first 4 iterations the colour of phasor defaults to brown\n",
    "        # this is done so that the sequence of phasor generation can be distinguished    \n",
    "        arr_label =None\n",
    "        if i <= 3:\n",
    "            arr_color = colors[i]\n",
    "            if i <3:\n",
    "                arr_label = \"Iteration \"+str(i+1)\n",
    "            else:\n",
    "                 arr_label = \"Rest of the iterations\"\n",
    "        #polar plots\n",
    "        ax1.arrow(phase_nrec, 0, 0, mag_nrec, length_includes_head=True,\n",
    "              head_width=0.08, head_length=4, color=arr_color)\n",
    "        ax2.arrow(phase_rec[i], 0, 0, mag_rec[i], length_includes_head=True,\n",
    "              head_width=0.08, head_length=4, color=arr_color, label=arr_label)\n",
    "    \n",
    "    # snippet places the legend's lower left corner just outside the polar axes\n",
    "    # at an angle of 67.5 degrees in polar coordinates.\n",
    "    angle = np.deg2rad(-30)\n",
    "    ax2.legend(loc=\"lower left\",bbox_to_anchor=(.7 + np.cos(angle)/2, .7 + np.sin(angle)/2))\n",
    "    \n",
    "    plt.show()\n",
    "    # phase, mag plot fn\n",
    "    plot_mag_phase(mag_rec, phase_rec, Nw)\n",
    "\n",
    "plot_phasors(Nw,N,X_nrec,X_rec)"
   ]
  },
  {
   "cell_type": "markdown",
   "metadata": {},
   "source": [
    "## Generate your plots\n",
    "Now let's generate more data points.\n",
    "If you want to change the signal parameters, go ahead! Click on the reset button and tweak the the parameters in the input box.\n",
    "See how the phasors are calculated and compare the the 2 methods."
   ]
  },
  {
   "cell_type": "code",
   "execution_count": 5,
   "metadata": {},
   "outputs": [
    {
     "data": {
      "application/vnd.jupyter.widget-view+json": {
       "model_id": "cbc5c5743f14422a9e1b67e1a2cd11b7",
       "version_major": 2,
       "version_minor": 0
      },
      "text/plain": [
       "Box(children=(Box(children=(BoundedIntText(value=60, description='Frequency(f0):'), BoundedIntText(value=50, d…"
      ]
     },
     "execution_count": 5,
     "metadata": {},
     "output_type": "execute_result"
    }
   ],
   "source": [
    "from ipywidgets import *\n",
    "\n",
    "out = widgets.Output()\n",
    "#function to run the phasor calculation and plot, invoked from the button press action\n",
    "def gen_plot():\n",
    "    out.clear_output() # clears the output field for the new plot\n",
    "    global Nw\n",
    "    Nw = Nw +1 # picking new window, to calculate the next datapoint\n",
    "    f0 = in_f0.value\n",
    "    N = in_N.value \n",
    "    fn = in_fn.value \n",
    "    amp = in_amp.value\n",
    "    three_pavg = in_3p.value\n",
    "    phase = np.deg2rad(in_pahse.value)\n",
    "    X_nrec = non_recursive_est(Nw,N,f0,amp,phase)\n",
    "    X_rec = recursive_est(Nw,N,f0,fn,amp,phase)\n",
    "    plot_phasors(Nw,N,X_nrec,X_rec, three_pavg) \n",
    "    \n",
    "items_layout = Layout( width='auto') # override the default width of the button to 'auto' to let the button grow\n",
    "form_item_layout = Layout(\n",
    "    display='flex',\n",
    "    flex_flow='row',\n",
    "    justify_content='space-around')\n",
    "#elements in the form\n",
    "in_f0 = BoundedIntText(value=60, min=0, step=1, description='Frequency(f0):', disabled=False)\n",
    "in_3p = widgets.Dropdown(options=[('Yes', 1), ('No', 0)], value=0, description='3-point Avg.:')\n",
    "in_N = BoundedIntText(value=20, min=0, step=1, description='Samples(N):', disabled=False)\n",
    "in_fn = BoundedIntText(value=50, min=0, step=1, description='Nominal Frequency(fn):', disabled=False)\n",
    "in_amp = BoundedIntText(value=30, min=0, step=1, description='Amplitude:', disabled=False)\n",
    "in_pahse = BoundedIntText(value=45, min=0, step=1, description='Phase:', disabled=False)\n",
    "in_btn_gen = Button(description=\"Generate Plot\",style=ButtonStyle(button_color='moccasin'))\n",
    "in_btn_reset = Button(description=\"Reset\",style=ButtonStyle(button_color='lightgrey'))\n",
    "\n",
    "#columns in the form with Box element\n",
    "form_items = [Box([in_f0, in_fn], layout=form_item_layout),\n",
    "    Box([in_amp, in_pahse], layout=form_item_layout),\n",
    "    Box([in_N, in_3p ], layout=form_item_layout),\n",
    "    Box([in_btn_reset, in_btn_gen], layout=form_item_layout),\n",
    "    Box([out], layout=form_item_layout)]\n",
    "#formatting the form as Box\n",
    "form = Box(form_items, layout=Layout(\n",
    "    display='flex',\n",
    "    flex_flow='column',\n",
    "    border='solid 2px',\n",
    "    align_content='stretch',\n",
    "    width='70%'))\n",
    "\n",
    "# generate button\n",
    "def on_button_clicked(p):\n",
    "    with out:\n",
    "        gen_plot()\n",
    "#reset button\n",
    "def on_reset_clicked(p):\n",
    "    global Nw, ctr\n",
    "    Nw=0\n",
    "    ctr=0\n",
    "\n",
    "in_btn_gen.on_click(on_button_clicked)\n",
    "in_btn_reset.on_click(on_reset_clicked)\n",
    "\n",
    "form #display the parameter selection & plots\n"
   ]
  },
  {
   "cell_type": "code",
   "execution_count": null,
   "metadata": {},
   "outputs": [],
   "source": []
  }
 ],
 "metadata": {
  "kernelspec": {
   "display_name": "Python 3 (ipykernel)",
   "language": "python",
   "name": "python3"
  },
  "language_info": {
   "codemirror_mode": {
    "name": "ipython",
    "version": 3
   },
   "file_extension": ".py",
   "mimetype": "text/x-python",
   "name": "python",
   "nbconvert_exporter": "python",
   "pygments_lexer": "ipython3",
   "version": "3.9.7"
  }
 },
 "nbformat": 4,
 "nbformat_minor": 4
}
