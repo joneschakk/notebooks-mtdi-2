{
 "cells": [
  {
   "cell_type": "markdown",
   "id": "81efcead-ad55-4f80-bc4f-1ac1a6c4367c",
   "metadata": {},
   "source": [
    "# Basic State Estimation Example\n",
    "---\n",
    "\n",
    "We do the computation of our basic example here\n",
    "\n",
    "## Assign the initial conditions\n",
    "\n",
    "We need to set:\n",
    "- The number of state variables\n",
    "- A tolerance for our loop ending condition"
   ]
  },
  {
   "cell_type": "code",
   "execution_count": 1,
   "id": "388bf0e5-75ff-4568-a705-1993258589dc",
   "metadata": {},
   "outputs": [],
   "source": [
    "%Number of state variables\n",
    "n=1; \n",
    "\n",
    "% tolerance for exiting the iterative estimation\n",
    "tolerance = 10e-10;"
   ]
  },
  {
   "cell_type": "markdown",
   "id": "d30f938f-a491-4120-8aed-26fda4d422a3",
   "metadata": {},
   "source": [
    "## Creation of the state vector\n",
    "The state is initialized with zeros, to begin"
   ]
  },
  {
   "cell_type": "code",
   "execution_count": 2,
   "id": "bcc918be-bed4-46bb-a1de-e02ac89ff593",
   "metadata": {},
   "outputs": [],
   "source": [
    "% creating the state vector\n",
    "x = zeros((2*n-1),1);"
   ]
  },
  {
   "cell_type": "markdown",
   "id": "660fd295-e8d3-4f16-9bbd-9a443d0d3433",
   "metadata": {},
   "source": [
    "## Creation of the covariance and weighting matrix\n",
    "In this example, we will assume that our confidence levels in the measuring process for the different variables are not the same, to illustrate the behavior."
   ]
  },
  {
   "cell_type": "code",
   "execution_count": 3,
   "id": "0bfca3af-38f0-4eaa-aa48-2b3fb2e330ab",
   "metadata": {},
   "outputs": [],
   "source": [
    "% creating the covariance matrix\n",
    "R = [1 0 ;0 .0001];\n",
    "\n",
    "% creating the weighting matrix\n",
    "\n",
    "W=inv(R); "
   ]
  },
  {
   "cell_type": "markdown",
   "id": "90dca6cf-cf17-4074-8907-0b2cad55dd5a",
   "metadata": {},
   "source": [
    "## Measurement function\n",
    "We have here a fictional relation between the variables and the measurand."
   ]
  },
  {
   "cell_type": "code",
   "execution_count": 4,
   "id": "185db340-b86e-4206-92d7-c3bff4fcf651",
   "metadata": {},
   "outputs": [],
   "source": [
    "% Setup the measurement function\n",
    "z=[1;2];"
   ]
  },
  {
   "cell_type": "markdown",
   "id": "15dd3663-62d4-4351-9f5c-3232769dc461",
   "metadata": {},
   "source": [
    "## Initialization for the loop conditions\n",
    "We go for a reasonable initial value, so the convergence is possible. We also declare the flags to be used in the main loop."
   ]
  },
  {
   "cell_type": "code",
   "execution_count": 5,
   "id": "a5908b00-412b-4a95-9b5a-95dca6c32aa6",
   "metadata": {},
   "outputs": [],
   "source": [
    "% initialising the state vector\n",
    "  x(1,1)=0;\n",
    "\n",
    "% initialising the residue\n",
    "  measurement_residuals = zeros((2*n-1),1);\n",
    "  \n",
    "  flg = 0;\n",
    "  ctr = 0;\n",
    "  "
   ]
  },
  {
   "cell_type": "markdown",
   "id": "93f59886-d313-41d0-b913-6aadb0ceec6c",
   "metadata": {},
   "source": [
    "## Main estimation loop\n",
    "\n",
    "We have set a number of iteration that break the cycle. That guarantees that we do not get stuck in the loop.\n",
    "\n",
    "The measurement function is build from the state vector, and also the Jacobian. \n",
    "\n",
    "Then is just the usual process:\n",
    "1. Build the gain matrix\n",
    "2. Calculate the inverse\n",
    "3. Compute the residuals\n",
    "4. Compute the derivative of the objective function (we are aiming for optimization)\n",
    "5. Update the states\n",
    "6. Check if we are converging and the change between iterations is below the tolerance."
   ]
  },
  {
   "cell_type": "code",
   "execution_count": 6,
   "id": "10f8b630-6330-4a68-b054-d814032e0470",
   "metadata": {},
   "outputs": [],
   "source": [
    "while flg == 0 && ctr < 100\n",
    "    \n",
    "    % building the measurement function vector\n",
    "    h1=x^(2)-4*x+4;\n",
    "    h2=3*x-1;\n",
    "    h = [h1;h2];\n",
    "\n",
    "    % building the measurement Jacobian\n",
    "    H1=2*x-4 ;\n",
    "    H2=3;\n",
    "    H = [H1;H2];\n",
    "\n",
    "    % building the gain matrix\n",
    "    G = H'*W*H;\n",
    "\n",
    "    %Building the inverse gain matrix\n",
    "    iG=inv(G);\n",
    "\n",
    "    %computing the measurement residue\n",
    "    measurement_residuals =  z - h;\n",
    "\n",
    "    % computing derivative of the objective function\n",
    "    delta_x = iG*H'*W*measurement_residuals;\n",
    "\n",
    "    % State estimation update\n",
    "\n",
    "    x = x + delta_x;\n",
    "\n",
    "    if max(abs(delta_x)) < tolerance\n",
    "        flg = 1;\n",
    "    end\n",
    "    \n",
    "    ctr = ctr + 1;\n",
    "    x_iter(ctr,1)=x;\n",
    "    delx_iter(ctr,1)=delta_x;\n",
    "    residue_iter(ctr,1)=measurement_residuals(1);\n",
    "    residue_iter(ctr,2)=measurement_residuals(2);\n",
    "    iter_count(ctr,1)=ctr;\n",
    "\n",
    "\n",
    "    state_estimate = x;\n",
    "\n",
    "end"
   ]
  },
  {
   "cell_type": "markdown",
   "id": "56b15420-4015-48a5-ac22-5a76a18b4943",
   "metadata": {},
   "source": [
    "## Evolution of the results\n",
    "Here we can see graphically what was going on in our loop."
   ]
  },
  {
   "cell_type": "markdown",
   "id": "c78dd506-3007-47a9-b355-2d3cf3e1e2c6",
   "metadata": {},
   "source": [
    "### State evolution\n",
    "This shows how the states evolve to a value in the consecutive iterations."
   ]
  },
  {
   "cell_type": "code",
   "execution_count": 7,
   "id": "2f9ddf21-f87c-477f-9e27-c737704f45d6",
   "metadata": {},
   "outputs": [
    {
     "data": {
      "image/png": "[encoded data removed]",
      "text/plain": [
       "<IPython.core.display.Image object>"
      ]
     },
     "metadata": {},
     "output_type": "display_data"
    }
   ],
   "source": [
    "figure(1)\n",
    "title('State evolution per iteration'); \n",
    "plot(iter_count,x_iter,'-*b')\n",
    "legend ('State evolution');\n",
    "grid on;\n"
   ]
  },
  {
   "cell_type": "markdown",
   "id": "e51ea985-c33c-493d-8b1b-4cfa4b5df2b3",
   "metadata": {},
   "source": [
    "### Evolution of the residuals\n",
    "The expected behaviour is a convergence to zero.\n"
   ]
  },
  {
   "cell_type": "code",
   "execution_count": 8,
   "id": "5748d732-c466-4505-8112-66b6674632ad",
   "metadata": {},
   "outputs": [
    {
     "data": {
      "image/png": "[encoded data removed]",
      "text/plain": [
       "<IPython.core.display.Image object>"
      ]
     },
     "metadata": {},
     "output_type": "display_data"
    }
   ],
   "source": [
    "figure(2)\n",
    "title('Residue evolution per iteration'); \n",
    "plot(iter_count,residue_iter(:,1),'-*b')\n",
    "hold on\n",
    "plot(iter_count,residue_iter(:,2),'-*r')\n",
    "legend ('residue z1','residue z2');\n",
    "grid on;"
   ]
  },
  {
   "cell_type": "markdown",
   "id": "59edb0e3-40df-400f-843a-8f72857f1254",
   "metadata": {},
   "source": [
    "### Evolution of the $ \\Delta x $\n",
    "In a case of convergence, it also needs to get smaller as fast as possible, as this signals how much we might still need to change to get to the actual value of the states."
   ]
  },
  {
   "cell_type": "code",
   "execution_count": 9,
   "id": "e2017264-57dc-49db-9e7e-59b89e608403",
   "metadata": {},
   "outputs": [
    {
     "data": {
      "image/png": "[encoded data removed]",
      "text/plain": [
       "<IPython.core.display.Image object>"
      ]
     },
     "metadata": {},
     "output_type": "display_data"
    }
   ],
   "source": [
    "figure(3)\n",
    "title('delta_x evolution per iteration'); \n",
    "plot(iter_count,delx_iter,'-*b')\n",
    "legend ('delta_x evolution');\n",
    "grid on;\n",
    "    "
   ]
  },
  {
   "cell_type": "code",
   "execution_count": null,
   "id": "87fce823-2952-42ce-ab68-69ac7f6802ea",
   "metadata": {},
   "outputs": [],
   "source": []
  }
 ],
 "metadata": {
  "kernelspec": {
   "display_name": "Octave",
   "language": "octave",
   "name": "octave"
  },
  "language_info": {
   "file_extension": ".m",
   "help_links": [
    {
     "text": "GNU Octave",
     "url": "https://www.gnu.org/software/octave/support.html"
    },
    {
     "text": "Octave Kernel",
     "url": "https://github.com/Calysto/octave_kernel"
    },
    {
     "text": "MetaKernel Magics",
     "url": "https://metakernel.readthedocs.io/en/latest/source/README.html"
    }
   ],
   "mimetype": "text/x-octave",
   "name": "octave",
   "version": "5.2.0"
  }
 },
 "nbformat": 4,
 "nbformat_minor": 5
}
