{
 "cells": [
  {
   "cell_type": "markdown",
   "id": "46bf17a1",
   "metadata": {},
   "source": [
    "# Introduction to PMUs and Synchrophasors\n",
    "\n",
    "### Classic Definition of a Phasor\n",
    "\n",
    "![](PMU1.png)\n",
    "\n",
    "\n",
    "### Synchrophasors\n",
    "\n",
    "![](PMU2.png)\n",
    "\n",
    "\n",
    "### PMU\n",
    "\n",
    "Device that estimates synchronised phasors, frequency, rate of change of frequency (ROCOF) from voltage and current samples and a time synchronised signal.\n",
    "\n",
    "PMU may also perform other functions (e.g. fault recorder, e.g. calculation of power, power quality indices, etc.)\n",
    "\n",
    "#### Phasor Estimation\n",
    "\n",
    "![](PMU3.png)\n"
   ]
  },
  {
   "cell_type": "markdown",
   "id": "9a90be1d",
   "metadata": {},
   "source": [
    "The **first part** of modifiable parameters are as follows:\n",
    "\n",
    "- f0 : Signal Frequency\n",
    "- T0 : signal period\n",
    "- N : samples per period\n",
    "- fs : sampling frequency\n",
    "- Nw : number of observation windows\n",
    "- Nt : total number of samples"
   ]
  },
  {
   "cell_type": "code",
   "execution_count": null,
   "id": "73e9146c",
   "metadata": {},
   "outputs": [],
   "source": [
    "f0 = 50;\n",
    "T0 = 1/f0;\n",
    "N = 10;\n",
    "fs = f0*N;\n",
    "Nw = 10;\n",
    "Nt = N*Nw;"
   ]
  },
  {
   "cell_type": "markdown",
   "id": "2b26ddee",
   "metadata": {},
   "source": [
    "As the next step, based on the total number of samples collected, it is necessary to generate a time domain.\n",
    "\n",
    "Time Domain Generation:"
   ]
  },
  {
   "cell_type": "code",
   "execution_count": 2,
   "id": "483412e1",
   "metadata": {},
   "outputs": [],
   "source": [
    "dt = 1/fs;\n",
    "t = dt*[0:Nt-1];"
   ]
  },
  {
   "cell_type": "markdown",
   "id": "47177b6a",
   "metadata": {},
   "source": [
    "Now, it is time to generate signal to be used in the estimation. \n",
    "The **second part** of modifiable parameters are as follows:"
   ]
  },
  {
   "cell_type": "markdown",
   "id": "cf60a547",
   "metadata": {},
   "source": [
    "- amp : Amplitude\n",
    "- phase: Phase Angle"
   ]
  },
  {
   "cell_type": "code",
   "execution_count": 4,
   "id": "d2bda428",
   "metadata": {
    "scrolled": true
   },
   "outputs": [],
   "source": [
    "amp = 50;\n",
    "phase = 45;\n",
    "\n",
    "x = amp*cos(2*pi*f0*t+phase); % x: signal over Nw cycles"
   ]
  },
  {
   "cell_type": "markdown",
   "id": "a371d207",
   "metadata": {},
   "source": [
    "### Synchrophasor Estimation\n",
    "\n",
    "#### Non Recursive Method\n",
    "\n",
    "![](PMU4.png)\n",
    "\n",
    "Implementation of this method on Octave is illustrated below:\n"
   ]
  },
  {
   "cell_type": "code",
   "execution_count": null,
   "id": "367f82f6",
   "metadata": {},
   "outputs": [],
   "source": [
    "X = zeros(1,Nw);\n",
    "th = 2*pi/N;\n",
    "X_list = num2cell(zeros(1,Nw));\n",
    "col_num = 1;\n",
    "\n",
    "for k = 1:Nw\n",
    "  X = 0;\n",
    "  for n = 0:N-1\n",
    "    x_check = x(k+n);\n",
    "    X = X + ((sqrt(2)/N)*(x(k+n)*exp(-1i*n*th))); % Phasor Calculation\n",
    "    X_list(1,col_num) = {[X]};\n",
    "    col_num = col_num + 1;\n",
    "  endfor\n",
    "endfor"
   ]
  },
  {
   "cell_type": "markdown",
   "id": "013c1fdb",
   "metadata": {},
   "source": [
    "### Total Vector Error (TVE)\n",
    "\n",
    "![](PMU5.png)\n",
    "\n",
    "Implementation of this method on Octave is illustrated below:\n"
   ]
  },
  {
   "cell_type": "code",
   "execution_count": null,
   "id": "4c3ba463",
   "metadata": {},
   "outputs": [],
   "source": [
    "phasor_actual = cell2mat(X_list(1,1));\n",
    "phasor_estimate = cell2mat(X_list(1,2));\n",
    "\n",
    "real_diff = real(phasor_estimate) - real(phasor_actual);\n",
    "imag_diff = imag(phasor_estimate) - imag(phasor_actual);\n",
    "TVE = sqrt(((real_diff)^2 + (imag_diff)^2)/((real(phasor_actual)^2) + (imag(phasor_actual)^2)));"
   ]
  },
  {
   "cell_type": "markdown",
   "id": "58c701ff",
   "metadata": {},
   "source": [
    "#### Graphical Representation of TVE"
   ]
  },
  {
   "cell_type": "code",
   "execution_count": null,
   "id": "12ba72c9",
   "metadata": {},
   "outputs": [],
   "source": [
    "line([0 real(phasor_actual)],[0 imag(phasor_actual)], \"linestyle\", \"-\", \"color\", \"g\")\n",
    "line([0 real(phasor_estimate)],[0 imag(phasor_estimate)], \"linestyle\", \"-\", \"color\", \"r\")\n",
    "line([real(phasor_estimate) real(phasor_actual)], [imag(phasor_estimate) imag(phasor_actual)], \"linestyle\", \"--\", \"color\", \"k\")\n",
    "title(\"Total Vector Error (TVE) in Recursive Phasor Calculations\")\n",
    "legend('Actual Phasor','Estimated Phasor','TVE', 'location', 'eastoutside');\n",
    "disp (\"Total Vector Error is:\"), disp (TVE)"
   ]
  }
 ],
 "metadata": {
  "kernelspec": {
   "display_name": "Octave",
   "language": "octave",
   "name": "octave"
  },
  "language_info": {
   "file_extension": ".m",
   "help_links": [
    {
     "text": "GNU Octave",
     "url": "https://www.gnu.org/software/octave/support.html"
    },
    {
     "text": "Octave Kernel",
     "url": "https://github.com/Calysto/octave_kernel"
    },
    {
     "text": "MetaKernel Magics",
     "url": "https://metakernel.readthedocs.io/en/latest/source/README.html"
    }
   ],
   "mimetype": "text/x-octave",
   "name": "octave",
   "version": "5.2.0"
  }
 },
 "nbformat": 4,
 "nbformat_minor": 5
}
